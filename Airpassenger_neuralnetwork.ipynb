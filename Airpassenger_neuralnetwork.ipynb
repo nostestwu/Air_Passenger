{
 "cells": [
  {
   "cell_type": "code",
   "execution_count": 92,
   "id": "8e0dd587",
   "metadata": {},
   "outputs": [],
   "source": [
    "import numpy as np\n",
    "import matplotlib.pyplot as plt\n",
    "from pandas import read_csv\n",
    "import math\n",
    "\n",
    "from keras.models import Sequential\n",
    "from keras.layers import Dense\n",
    "from sklearn.preprocessing import MinMaxScaler\n",
    "from sklearn.metrics import mean_squared_error"
   ]
  },
  {
   "cell_type": "code",
   "execution_count": 93,
   "id": "1d2fd0ac",
   "metadata": {},
   "outputs": [
    {
     "data": {
      "text/plain": [
       "[<matplotlib.lines.Line2D at 0x7fc207a89670>]"
      ]
     },
     "execution_count": 93,
     "metadata": {},
     "output_type": "execute_result"
    },
    {
     "data": {
      "image/png": "[encoded data removed]",
      "text/plain": [
       "<Figure size 432x288 with 1 Axes>"
      ]
     },
     "metadata": {
      "needs_background": "light"
     },
     "output_type": "display_data"
    }
   ],
   "source": [
    "dataframe = read_csv(\"data/AirPassengers.csv\", usecols=[1])\n",
    "plt.plot(dataframe)"
   ]
  },
  {
   "cell_type": "code",
   "execution_count": 94,
   "id": "62e5be08",
   "metadata": {},
   "outputs": [],
   "source": [
    "#Convert pandas dataframe to numpy array\n",
    "dataset = dataframe.values\n",
    "dataset = dataset.astype('float32')"
   ]
  },
  {
   "cell_type": "code",
   "execution_count": 95,
   "id": "4a79f25b",
   "metadata": {},
   "outputs": [],
   "source": [
    "#normalize dataset\n",
    "#converts the largest value to 1 and lowest above 0\n",
    "scaler = MinMaxScaler(feature_range=(0,1))\n",
    "dataset = scaler.fit_transform(dataset)"
   ]
  },
  {
   "cell_type": "code",
   "execution_count": 96,
   "id": "03e6c416",
   "metadata": {},
   "outputs": [],
   "source": [
    "#split into train and test sets\n",
    "train_size = int(len(dataset) * 0.66)\n",
    "test_size = len(dataset) - train_size\n",
    "train, test = dataset[0:train_size,:], dataset[train_size:len(dataset),:]"
   ]
  },
  {
   "cell_type": "code",
   "execution_count": 97,
   "id": "5b1c2e53",
   "metadata": {},
   "outputs": [],
   "source": [
    "#seq_size is the number of previous time steps to use as \n",
    "#input variables to predict the next time period\n",
    "\n",
    "def to_sequences(dataset, seq_size=1):\n",
    "    x = []\n",
    "    y = []\n",
    "    \n",
    "    for i in range(len(dataset) - seq_size - 1):\n",
    "        window = dataset[i:(i + seq_size), 0]\n",
    "        x.append(window)\n",
    "        y.append(dataset[i+seq_size, 0])\n",
    "        \n",
    "    return np.array(x), np.array(y)\n"
   ]
  },
  {
   "cell_type": "code",
   "execution_count": 98,
   "id": "c95ad15c",
   "metadata": {},
   "outputs": [],
   "source": [
    "seq_size = 5 # number of time steps to look back\n",
    "trainX, trainY = to_sequences(train, seq_size)\n",
    "testX, testY = to_sequences(test,seq_size)"
   ]
  },
  {
   "cell_type": "code",
   "execution_count": 99,
   "id": "24910fe2",
   "metadata": {},
   "outputs": [
    {
     "name": "stdout",
     "output_type": "stream",
     "text": [
      "Model: \"sequential_15\"\n",
      "_________________________________________________________________\n",
      " Layer (type)                Output Shape              Param #   \n",
      "=================================================================\n",
      " dense_35 (Dense)            (None, 64)                384       \n",
      "                                                                 \n",
      " dense_36 (Dense)            (None, 32)                2080      \n",
      "                                                                 \n",
      " dense_37 (Dense)            (None, 1)                 33        \n",
      "                                                                 \n",
      "=================================================================\n",
      "Total params: 2,497\n",
      "Trainable params: 2,497\n",
      "Non-trainable params: 0\n",
      "_________________________________________________________________\n",
      "None\n"
     ]
    }
   ],
   "source": [
    "#create and fit dense model\n",
    "\n",
    "model = Sequential()\n",
    "model.add(Dense(64, input_dim=seq_size, activation='relu'))\n",
    "model.add(Dense(32, activation='relu'))\n",
    "model.add(Dense(1))\n",
    "model.compile(loss='mean_squared_error', optimizer='adam',metrics = ['acc'])\n",
    "print(model.summary())\n"
   ]
  },
  {
   "cell_type": "code",
   "execution_count": 100,
   "id": "0cf8cfa3",
   "metadata": {},
   "outputs": [],
   "source": [
    "#second model\n",
    "#model = Sequential()\n",
    "#model.add(Dense(8, input_dim=seq_size, activation='relu'))\n",
    "#model.add(Dense(1))\n",
    "#model.compile(loss='mean_squared_error', optimizer='adam',metrics = [''])\n",
    "#print(model.summary())"
   ]
  },
  {
   "cell_type": "code",
   "execution_count": 101,
   "id": "1fe61eb2",
   "metadata": {},
   "outputs": [
    {
     "name": "stdout",
     "output_type": "stream",
     "text": [
      "Epoch 1/100\n",
      "3/3 - 0s - loss: 0.0038 - acc: 0.0112 - val_loss: 0.0217 - val_acc: 0.0233 - 418ms/epoch - 139ms/step\n",
      "Epoch 2/100\n",
      "3/3 - 0s - loss: 0.0041 - acc: 0.0112 - val_loss: 0.0170 - val_acc: 0.0233 - 27ms/epoch - 9ms/step\n",
      "Epoch 3/100\n",
      "3/3 - 0s - loss: 0.0034 - acc: 0.0112 - val_loss: 0.0186 - val_acc: 0.0233 - 29ms/epoch - 10ms/step\n",
      "Epoch 4/100\n",
      "3/3 - 0s - loss: 0.0033 - acc: 0.0112 - val_loss: 0.0160 - val_acc: 0.0233 - 29ms/epoch - 10ms/step\n",
      "Epoch 5/100\n",
      "3/3 - 0s - loss: 0.0029 - acc: 0.0112 - val_loss: 0.0146 - val_acc: 0.0233 - 33ms/epoch - 11ms/step\n",
      "Epoch 6/100\n",
      "3/3 - 0s - loss: 0.0029 - acc: 0.0112 - val_loss: 0.0138 - val_acc: 0.0233 - 29ms/epoch - 10ms/step\n",
      "Epoch 7/100\n",
      "3/3 - 0s - loss: 0.0026 - acc: 0.0112 - val_loss: 0.0135 - val_acc: 0.0233 - 28ms/epoch - 9ms/step\n",
      "Epoch 8/100\n",
      "3/3 - 0s - loss: 0.0025 - acc: 0.0112 - val_loss: 0.0134 - val_acc: 0.0233 - 29ms/epoch - 10ms/step\n",
      "Epoch 9/100\n",
      "3/3 - 0s - loss: 0.0024 - acc: 0.0112 - val_loss: 0.0122 - val_acc: 0.0233 - 28ms/epoch - 9ms/step\n",
      "Epoch 10/100\n",
      "3/3 - 0s - loss: 0.0022 - acc: 0.0112 - val_loss: 0.0109 - val_acc: 0.0233 - 28ms/epoch - 9ms/step\n",
      "Epoch 11/100\n",
      "3/3 - 0s - loss: 0.0021 - acc: 0.0112 - val_loss: 0.0103 - val_acc: 0.0233 - 27ms/epoch - 9ms/step\n",
      "Epoch 12/100\n",
      "3/3 - 0s - loss: 0.0021 - acc: 0.0112 - val_loss: 0.0103 - val_acc: 0.0233 - 29ms/epoch - 10ms/step\n",
      "Epoch 13/100\n",
      "3/3 - 0s - loss: 0.0019 - acc: 0.0112 - val_loss: 0.0094 - val_acc: 0.0233 - 30ms/epoch - 10ms/step\n",
      "Epoch 14/100\n",
      "3/3 - 0s - loss: 0.0019 - acc: 0.0112 - val_loss: 0.0090 - val_acc: 0.0233 - 33ms/epoch - 11ms/step\n",
      "Epoch 15/100\n",
      "3/3 - 0s - loss: 0.0018 - acc: 0.0112 - val_loss: 0.0089 - val_acc: 0.0233 - 28ms/epoch - 9ms/step\n",
      "Epoch 16/100\n",
      "3/3 - 0s - loss: 0.0018 - acc: 0.0112 - val_loss: 0.0085 - val_acc: 0.0233 - 29ms/epoch - 10ms/step\n",
      "Epoch 17/100\n",
      "3/3 - 0s - loss: 0.0018 - acc: 0.0112 - val_loss: 0.0083 - val_acc: 0.0233 - 29ms/epoch - 10ms/step\n",
      "Epoch 18/100\n",
      "3/3 - 0s - loss: 0.0017 - acc: 0.0112 - val_loss: 0.0079 - val_acc: 0.0233 - 28ms/epoch - 9ms/step\n",
      "Epoch 19/100\n",
      "3/3 - 0s - loss: 0.0017 - acc: 0.0112 - val_loss: 0.0083 - val_acc: 0.0233 - 31ms/epoch - 10ms/step\n",
      "Epoch 20/100\n",
      "3/3 - 0s - loss: 0.0017 - acc: 0.0112 - val_loss: 0.0086 - val_acc: 0.0233 - 29ms/epoch - 10ms/step\n",
      "Epoch 21/100\n",
      "3/3 - 0s - loss: 0.0017 - acc: 0.0112 - val_loss: 0.0078 - val_acc: 0.0233 - 29ms/epoch - 10ms/step\n",
      "Epoch 22/100\n",
      "3/3 - 0s - loss: 0.0016 - acc: 0.0112 - val_loss: 0.0078 - val_acc: 0.0233 - 38ms/epoch - 13ms/step\n",
      "Epoch 23/100\n",
      "3/3 - 0s - loss: 0.0016 - acc: 0.0112 - val_loss: 0.0082 - val_acc: 0.0233 - 31ms/epoch - 10ms/step\n",
      "Epoch 24/100\n",
      "3/3 - 0s - loss: 0.0016 - acc: 0.0112 - val_loss: 0.0075 - val_acc: 0.0233 - 30ms/epoch - 10ms/step\n",
      "Epoch 25/100\n",
      "3/3 - 0s - loss: 0.0015 - acc: 0.0112 - val_loss: 0.0077 - val_acc: 0.0233 - 29ms/epoch - 10ms/step\n",
      "Epoch 26/100\n",
      "3/3 - 0s - loss: 0.0015 - acc: 0.0112 - val_loss: 0.0079 - val_acc: 0.0233 - 29ms/epoch - 10ms/step\n",
      "Epoch 27/100\n",
      "3/3 - 0s - loss: 0.0015 - acc: 0.0112 - val_loss: 0.0073 - val_acc: 0.0233 - 31ms/epoch - 10ms/step\n",
      "Epoch 28/100\n",
      "3/3 - 0s - loss: 0.0015 - acc: 0.0112 - val_loss: 0.0071 - val_acc: 0.0233 - 29ms/epoch - 10ms/step\n",
      "Epoch 29/100\n",
      "3/3 - 0s - loss: 0.0015 - acc: 0.0112 - val_loss: 0.0078 - val_acc: 0.0233 - 32ms/epoch - 11ms/step\n",
      "Epoch 30/100\n",
      "3/3 - 0s - loss: 0.0015 - acc: 0.0112 - val_loss: 0.0069 - val_acc: 0.0233 - 29ms/epoch - 10ms/step\n",
      "Epoch 31/100\n",
      "3/3 - 0s - loss: 0.0014 - acc: 0.0112 - val_loss: 0.0068 - val_acc: 0.0233 - 29ms/epoch - 10ms/step\n",
      "Epoch 32/100\n",
      "3/3 - 0s - loss: 0.0014 - acc: 0.0112 - val_loss: 0.0069 - val_acc: 0.0233 - 29ms/epoch - 10ms/step\n",
      "Epoch 33/100\n",
      "3/3 - 0s - loss: 0.0014 - acc: 0.0112 - val_loss: 0.0069 - val_acc: 0.0233 - 28ms/epoch - 9ms/step\n",
      "Epoch 34/100\n",
      "3/3 - 0s - loss: 0.0014 - acc: 0.0112 - val_loss: 0.0068 - val_acc: 0.0233 - 28ms/epoch - 9ms/step\n",
      "Epoch 35/100\n",
      "3/3 - 0s - loss: 0.0013 - acc: 0.0112 - val_loss: 0.0070 - val_acc: 0.0233 - 28ms/epoch - 9ms/step\n",
      "Epoch 36/100\n",
      "3/3 - 0s - loss: 0.0014 - acc: 0.0112 - val_loss: 0.0069 - val_acc: 0.0233 - 29ms/epoch - 10ms/step\n",
      "Epoch 37/100\n",
      "3/3 - 0s - loss: 0.0015 - acc: 0.0112 - val_loss: 0.0063 - val_acc: 0.0233 - 33ms/epoch - 11ms/step\n",
      "Epoch 38/100\n",
      "3/3 - 0s - loss: 0.0014 - acc: 0.0112 - val_loss: 0.0078 - val_acc: 0.0233 - 30ms/epoch - 10ms/step\n",
      "Epoch 39/100\n",
      "3/3 - 0s - loss: 0.0014 - acc: 0.0112 - val_loss: 0.0064 - val_acc: 0.0233 - 28ms/epoch - 9ms/step\n",
      "Epoch 40/100\n",
      "3/3 - 0s - loss: 0.0013 - acc: 0.0112 - val_loss: 0.0063 - val_acc: 0.0233 - 28ms/epoch - 9ms/step\n",
      "Epoch 41/100\n",
      "3/3 - 0s - loss: 0.0014 - acc: 0.0112 - val_loss: 0.0071 - val_acc: 0.0233 - 27ms/epoch - 9ms/step\n",
      "Epoch 42/100\n",
      "3/3 - 0s - loss: 0.0013 - acc: 0.0112 - val_loss: 0.0061 - val_acc: 0.0233 - 27ms/epoch - 9ms/step\n",
      "Epoch 43/100\n",
      "3/3 - 0s - loss: 0.0013 - acc: 0.0112 - val_loss: 0.0060 - val_acc: 0.0233 - 27ms/epoch - 9ms/step\n",
      "Epoch 44/100\n",
      "3/3 - 0s - loss: 0.0012 - acc: 0.0112 - val_loss: 0.0066 - val_acc: 0.0233 - 28ms/epoch - 9ms/step\n",
      "Epoch 45/100\n",
      "3/3 - 0s - loss: 0.0012 - acc: 0.0112 - val_loss: 0.0062 - val_acc: 0.0233 - 27ms/epoch - 9ms/step\n",
      "Epoch 46/100\n",
      "3/3 - 0s - loss: 0.0012 - acc: 0.0112 - val_loss: 0.0059 - val_acc: 0.0233 - 33ms/epoch - 11ms/step\n",
      "Epoch 47/100\n",
      "3/3 - 0s - loss: 0.0012 - acc: 0.0112 - val_loss: 0.0063 - val_acc: 0.0233 - 29ms/epoch - 10ms/step\n",
      "Epoch 48/100\n",
      "3/3 - 0s - loss: 0.0012 - acc: 0.0112 - val_loss: 0.0064 - val_acc: 0.0233 - 28ms/epoch - 9ms/step\n",
      "Epoch 49/100\n",
      "3/3 - 0s - loss: 0.0012 - acc: 0.0112 - val_loss: 0.0058 - val_acc: 0.0233 - 28ms/epoch - 9ms/step\n",
      "Epoch 50/100\n",
      "3/3 - 0s - loss: 0.0012 - acc: 0.0112 - val_loss: 0.0063 - val_acc: 0.0233 - 35ms/epoch - 12ms/step\n",
      "Epoch 51/100\n",
      "3/3 - 0s - loss: 0.0012 - acc: 0.0112 - val_loss: 0.0058 - val_acc: 0.0233 - 33ms/epoch - 11ms/step\n",
      "Epoch 52/100\n",
      "3/3 - 0s - loss: 0.0012 - acc: 0.0112 - val_loss: 0.0058 - val_acc: 0.0233 - 31ms/epoch - 10ms/step\n",
      "Epoch 53/100\n",
      "3/3 - 0s - loss: 0.0011 - acc: 0.0112 - val_loss: 0.0061 - val_acc: 0.0233 - 35ms/epoch - 12ms/step\n",
      "Epoch 54/100\n",
      "3/3 - 0s - loss: 0.0011 - acc: 0.0112 - val_loss: 0.0057 - val_acc: 0.0233 - 33ms/epoch - 11ms/step\n",
      "Epoch 55/100\n",
      "3/3 - 0s - loss: 0.0011 - acc: 0.0112 - val_loss: 0.0055 - val_acc: 0.0233 - 30ms/epoch - 10ms/step\n",
      "Epoch 56/100\n",
      "3/3 - 0s - loss: 0.0012 - acc: 0.0112 - val_loss: 0.0060 - val_acc: 0.0233 - 29ms/epoch - 10ms/step\n",
      "Epoch 57/100\n",
      "3/3 - 0s - loss: 0.0011 - acc: 0.0112 - val_loss: 0.0055 - val_acc: 0.0233 - 29ms/epoch - 10ms/step\n",
      "Epoch 58/100\n",
      "3/3 - 0s - loss: 0.0011 - acc: 0.0112 - val_loss: 0.0054 - val_acc: 0.0233 - 28ms/epoch - 9ms/step\n",
      "Epoch 59/100\n",
      "3/3 - 0s - loss: 0.0011 - acc: 0.0112 - val_loss: 0.0059 - val_acc: 0.0233 - 27ms/epoch - 9ms/step\n",
      "Epoch 60/100\n",
      "3/3 - 0s - loss: 0.0011 - acc: 0.0112 - val_loss: 0.0055 - val_acc: 0.0233 - 28ms/epoch - 9ms/step\n",
      "Epoch 61/100\n",
      "3/3 - 0s - loss: 0.0011 - acc: 0.0112 - val_loss: 0.0055 - val_acc: 0.0233 - 32ms/epoch - 11ms/step\n",
      "Epoch 62/100\n",
      "3/3 - 0s - loss: 0.0011 - acc: 0.0112 - val_loss: 0.0052 - val_acc: 0.0233 - 29ms/epoch - 10ms/step\n",
      "Epoch 63/100\n",
      "3/3 - 0s - loss: 0.0011 - acc: 0.0112 - val_loss: 0.0057 - val_acc: 0.0233 - 29ms/epoch - 10ms/step\n",
      "Epoch 64/100\n",
      "3/3 - 0s - loss: 0.0011 - acc: 0.0112 - val_loss: 0.0052 - val_acc: 0.0233 - 29ms/epoch - 10ms/step\n",
      "Epoch 65/100\n",
      "3/3 - 0s - loss: 0.0010 - acc: 0.0112 - val_loss: 0.0055 - val_acc: 0.0233 - 28ms/epoch - 9ms/step\n",
      "Epoch 66/100\n",
      "3/3 - 0s - loss: 0.0010 - acc: 0.0112 - val_loss: 0.0050 - val_acc: 0.0233 - 28ms/epoch - 9ms/step\n",
      "Epoch 67/100\n",
      "3/3 - 0s - loss: 0.0011 - acc: 0.0112 - val_loss: 0.0054 - val_acc: 0.0233 - 27ms/epoch - 9ms/step\n",
      "Epoch 68/100\n",
      "3/3 - 0s - loss: 9.7283e-04 - acc: 0.0112 - val_loss: 0.0049 - val_acc: 0.0233 - 27ms/epoch - 9ms/step\n",
      "Epoch 69/100\n",
      "3/3 - 0s - loss: 0.0010 - acc: 0.0112 - val_loss: 0.0050 - val_acc: 0.0233 - 27ms/epoch - 9ms/step\n",
      "Epoch 70/100\n",
      "3/3 - 0s - loss: 0.0011 - acc: 0.0112 - val_loss: 0.0056 - val_acc: 0.0233 - 30ms/epoch - 10ms/step\n",
      "Epoch 71/100\n",
      "3/3 - 0s - loss: 9.3764e-04 - acc: 0.0112 - val_loss: 0.0049 - val_acc: 0.0233 - 27ms/epoch - 9ms/step\n",
      "Epoch 72/100\n",
      "3/3 - 0s - loss: 0.0011 - acc: 0.0112 - val_loss: 0.0051 - val_acc: 0.0233 - 27ms/epoch - 9ms/step\n",
      "Epoch 73/100\n",
      "3/3 - 0s - loss: 9.8120e-04 - acc: 0.0112 - val_loss: 0.0059 - val_acc: 0.0233 - 27ms/epoch - 9ms/step\n"
     ]
    },
    {
     "name": "stdout",
     "output_type": "stream",
     "text": [
      "Epoch 74/100\n",
      "3/3 - 0s - loss: 0.0011 - acc: 0.0112 - val_loss: 0.0047 - val_acc: 0.0233 - 27ms/epoch - 9ms/step\n",
      "Epoch 75/100\n",
      "3/3 - 0s - loss: 0.0010 - acc: 0.0112 - val_loss: 0.0051 - val_acc: 0.0233 - 27ms/epoch - 9ms/step\n",
      "Epoch 76/100\n",
      "3/3 - 0s - loss: 9.6428e-04 - acc: 0.0112 - val_loss: 0.0060 - val_acc: 0.0233 - 27ms/epoch - 9ms/step\n",
      "Epoch 77/100\n",
      "3/3 - 0s - loss: 9.6497e-04 - acc: 0.0112 - val_loss: 0.0048 - val_acc: 0.0233 - 27ms/epoch - 9ms/step\n",
      "Epoch 78/100\n",
      "3/3 - 0s - loss: 0.0010 - acc: 0.0112 - val_loss: 0.0048 - val_acc: 0.0233 - 31ms/epoch - 10ms/step\n",
      "Epoch 79/100\n",
      "3/3 - 0s - loss: 0.0010 - acc: 0.0112 - val_loss: 0.0060 - val_acc: 0.0233 - 26ms/epoch - 9ms/step\n",
      "Epoch 80/100\n",
      "3/3 - 0s - loss: 9.8089e-04 - acc: 0.0112 - val_loss: 0.0046 - val_acc: 0.0233 - 27ms/epoch - 9ms/step\n",
      "Epoch 81/100\n",
      "3/3 - 0s - loss: 9.8893e-04 - acc: 0.0112 - val_loss: 0.0049 - val_acc: 0.0233 - 27ms/epoch - 9ms/step\n",
      "Epoch 82/100\n",
      "3/3 - 0s - loss: 9.0888e-04 - acc: 0.0112 - val_loss: 0.0049 - val_acc: 0.0233 - 27ms/epoch - 9ms/step\n",
      "Epoch 83/100\n",
      "3/3 - 0s - loss: 9.3294e-04 - acc: 0.0112 - val_loss: 0.0047 - val_acc: 0.0233 - 27ms/epoch - 9ms/step\n",
      "Epoch 84/100\n",
      "3/3 - 0s - loss: 8.8668e-04 - acc: 0.0112 - val_loss: 0.0047 - val_acc: 0.0233 - 27ms/epoch - 9ms/step\n",
      "Epoch 85/100\n",
      "3/3 - 0s - loss: 8.7261e-04 - acc: 0.0112 - val_loss: 0.0046 - val_acc: 0.0233 - 26ms/epoch - 9ms/step\n",
      "Epoch 86/100\n",
      "3/3 - 0s - loss: 8.8657e-04 - acc: 0.0112 - val_loss: 0.0048 - val_acc: 0.0233 - 27ms/epoch - 9ms/step\n",
      "Epoch 87/100\n",
      "3/3 - 0s - loss: 8.5346e-04 - acc: 0.0112 - val_loss: 0.0045 - val_acc: 0.0233 - 29ms/epoch - 10ms/step\n",
      "Epoch 88/100\n",
      "3/3 - 0s - loss: 8.6955e-04 - acc: 0.0112 - val_loss: 0.0047 - val_acc: 0.0233 - 28ms/epoch - 9ms/step\n",
      "Epoch 89/100\n",
      "3/3 - 0s - loss: 0.0010 - acc: 0.0112 - val_loss: 0.0046 - val_acc: 0.0233 - 27ms/epoch - 9ms/step\n",
      "Epoch 90/100\n",
      "3/3 - 0s - loss: 9.2531e-04 - acc: 0.0112 - val_loss: 0.0044 - val_acc: 0.0233 - 27ms/epoch - 9ms/step\n",
      "Epoch 91/100\n",
      "3/3 - 0s - loss: 9.4210e-04 - acc: 0.0112 - val_loss: 0.0054 - val_acc: 0.0233 - 27ms/epoch - 9ms/step\n",
      "Epoch 92/100\n",
      "3/3 - 0s - loss: 9.3213e-04 - acc: 0.0112 - val_loss: 0.0045 - val_acc: 0.0233 - 27ms/epoch - 9ms/step\n",
      "Epoch 93/100\n",
      "3/3 - 0s - loss: 8.3017e-04 - acc: 0.0112 - val_loss: 0.0044 - val_acc: 0.0233 - 26ms/epoch - 9ms/step\n",
      "Epoch 94/100\n",
      "3/3 - 0s - loss: 8.1244e-04 - acc: 0.0112 - val_loss: 0.0049 - val_acc: 0.0233 - 27ms/epoch - 9ms/step\n",
      "Epoch 95/100\n",
      "3/3 - 0s - loss: 8.4641e-04 - acc: 0.0112 - val_loss: 0.0046 - val_acc: 0.0233 - 27ms/epoch - 9ms/step\n",
      "Epoch 96/100\n",
      "3/3 - 0s - loss: 8.0080e-04 - acc: 0.0112 - val_loss: 0.0045 - val_acc: 0.0233 - 30ms/epoch - 10ms/step\n",
      "Epoch 97/100\n",
      "3/3 - 0s - loss: 8.0860e-04 - acc: 0.0112 - val_loss: 0.0044 - val_acc: 0.0233 - 28ms/epoch - 9ms/step\n",
      "Epoch 98/100\n",
      "3/3 - 0s - loss: 7.9792e-04 - acc: 0.0112 - val_loss: 0.0045 - val_acc: 0.0233 - 26ms/epoch - 9ms/step\n",
      "Epoch 99/100\n",
      "3/3 - 0s - loss: 8.0078e-04 - acc: 0.0112 - val_loss: 0.0044 - val_acc: 0.0233 - 27ms/epoch - 9ms/step\n",
      "Epoch 100/100\n",
      "3/3 - 0s - loss: 9.0453e-04 - acc: 0.0112 - val_loss: 0.0044 - val_acc: 0.0233 - 26ms/epoch - 9ms/step\n"
     ]
    },
    {
     "data": {
      "text/plain": [
       "<keras.callbacks.History at 0x7fc208340b20>"
      ]
     },
     "execution_count": 101,
     "metadata": {},
     "output_type": "execute_result"
    }
   ],
   "source": [
    "model.fit(trainX, trainY, validation_data=(testX, testY),\n",
    "         verbose=2, epochs=100)"
   ]
  },
  {
   "cell_type": "code",
   "execution_count": 102,
   "id": "be8eaa68",
   "metadata": {},
   "outputs": [
    {
     "name": "stdout",
     "output_type": "stream",
     "text": [
      "3/3 [==============================] - 0s 1ms/step\n",
      "2/2 [==============================] - 0s 2ms/step\n"
     ]
    }
   ],
   "source": [
    "# Prediction\n",
    "trainPredict = model.predict(trainX)\n",
    "testPredict = model.predict(testX)"
   ]
  },
  {
   "cell_type": "code",
   "execution_count": 103,
   "id": "9c2b1e62",
   "metadata": {},
   "outputs": [],
   "source": [
    "# Estimate model performance by doing inverse transformation\n",
    "\n",
    "trainPredict = scaler.inverse_transform(trainPredict)\n",
    "trainY_inverse = scaler.inverse_transform([trainY])\n",
    "testPredict = scaler.inverse_transform(testPredict)\n",
    "testY_inverse = scaler.inverse_transform([testY])"
   ]
  },
  {
   "cell_type": "code",
   "execution_count": 104,
   "id": "9b84f185",
   "metadata": {},
   "outputs": [
    {
     "name": "stdout",
     "output_type": "stream",
     "text": [
      "Train score: 14.35 RMSE\n",
      "Test score: 34.25 RMSE\n"
     ]
    }
   ],
   "source": [
    "#calculate root mean squared error\n",
    "\n",
    "trainScore = math.sqrt(mean_squared_error(trainY_inverse[0], trainPredict[:,0]))\n",
    "print('Train score: %.2f RMSE' % (trainScore))\n",
    "\n",
    "testScore = math.sqrt(mean_squared_error(testY_inverse[0], testPredict[:,0]))\n",
    "print('Test score: %.2f RMSE' % (testScore))"
   ]
  },
  {
   "cell_type": "code",
   "execution_count": 105,
   "id": "2864ae74",
   "metadata": {},
   "outputs": [],
   "source": [
    "#align the prediction on the x-axis with the origin\n",
    "#shift train predictions for plotting\n",
    "\n",
    "trainPredictPlot = np.empty_like(dataset)\n",
    "trainPredictPlot[:, :] = np.nan\n",
    "trainPredictPlot[seq_size:len(trainPredict)+seq_size, :] = trainPredict"
   ]
  },
  {
   "cell_type": "code",
   "execution_count": 106,
   "id": "769471f1",
   "metadata": {},
   "outputs": [],
   "source": [
    "#shift test predictions for plotting\n",
    "\n",
    "testPredictPlot = np.empty_like(dataset)\n",
    "testPredictPlot[:, :] = np.nan\n",
    "testPredictPlot[len(trainPredict)+(seq_size * 2)+1: len(dataset)-1, :] = testPredict"
   ]
  },
  {
   "cell_type": "code",
   "execution_count": 109,
   "id": "0f437327",
   "metadata": {},
   "outputs": [
    {
     "data": {
      "image/png": "[encoded data removed]",
      "text/plain": [
       "<Figure size 432x288 with 1 Axes>"
      ]
     },
     "metadata": {
      "needs_background": "light"
     },
     "output_type": "display_data"
    }
   ],
   "source": [
    "#plot baseline and prediction\n",
    "\n",
    "plt.plot(scaler.inverse_transform(dataset))\n",
    "plt.plot(trainPredictPlot)\n",
    "plt.plot(testPredictPlot)\n",
    "plt.show()"
   ]
  },
  {
   "cell_type": "code",
   "execution_count": null,
   "id": "0d6e151c",
   "metadata": {},
   "outputs": [],
   "source": []
  }
 ],
 "metadata": {
  "kernelspec": {
   "display_name": "Python 3 (ipykernel)",
   "language": "python",
   "name": "python3"
  },
  "language_info": {
   "codemirror_mode": {
    "name": "ipython",
    "version": 3
   },
   "file_extension": ".py",
   "mimetype": "text/x-python",
   "name": "python",
   "nbconvert_exporter": "python",
   "pygments_lexer": "ipython3",
   "version": "3.9.7"
  },
  "varInspector": {
   "cols": {
    "lenName": 16,
    "lenType": 16,
    "lenVar": 40
   },
   "kernels_config": {
    "python": {
     "delete_cmd_postfix": "",
     "delete_cmd_prefix": "del ",
     "library": "var_list.py",
     "varRefreshCmd": "print(var_dic_list())"
    },
    "r": {
     "delete_cmd_postfix": ") ",
     "delete_cmd_prefix": "rm(",
     "library": "var_list.r",
     "varRefreshCmd": "cat(var_dic_list()) "
    }
   },
   "position": {
    "height": "177.852px",
    "left": "629px",
    "right": "20px",
    "top": "120px",
    "width": "430px"
   },
   "types_to_exclude": [
    "module",
    "function",
    "builtin_function_or_method",
    "instance",
    "_Feature"
   ],
   "window_display": true
  }
 },
 "nbformat": 4,
 "nbformat_minor": 5
}
