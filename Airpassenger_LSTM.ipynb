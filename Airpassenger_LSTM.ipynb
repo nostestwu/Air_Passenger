{
 "cells": [
  {
   "cell_type": "code",
   "execution_count": 258,
   "id": "b2aef5c0",
   "metadata": {},
   "outputs": [],
   "source": [
    "import numpy as np\n",
    "import matplotlib.pyplot as plt\n",
    "import math\n",
    "from pandas import read_csv\n",
    "\n",
    "from keras.models import Sequential\n",
    "from keras.layers import Dense\n",
    "from keras.layers import LSTM, Flatten\n",
    "from keras.layers import Bidirectional\n",
    "from keras.layers import ConvLSTM2D\n",
    "from sklearn.preprocessing import MinMaxScaler\n",
    "from sklearn.metrics import mean_squared_error"
   ]
  },
  {
   "cell_type": "code",
   "execution_count": 259,
   "id": "9b02c6e8",
   "metadata": {},
   "outputs": [
    {
     "data": {
      "text/plain": [
       "[<matplotlib.lines.Line2D at 0x7ff7d5c62970>]"
      ]
     },
     "execution_count": 259,
     "metadata": {},
     "output_type": "execute_result"
    },
    {
     "data": {
      "image/png": "[encoded data removed]",
      "text/plain": [
       "<Figure size 432x288 with 1 Axes>"
      ]
     },
     "metadata": {
      "needs_background": "light"
     },
     "output_type": "display_data"
    }
   ],
   "source": [
    "dataframe = read_csv(\"data/AirPassengers.csv\", usecols=[1])\n",
    "plt.plot(dataframe)"
   ]
  },
  {
   "cell_type": "code",
   "execution_count": 260,
   "id": "ef5a6281",
   "metadata": {},
   "outputs": [],
   "source": [
    "#Convert pands dataframe to numpy array\n",
    "dataset = dataframe.values\n",
    "dataset = dataset.astype('float32')"
   ]
  },
  {
   "cell_type": "code",
   "execution_count": 261,
   "id": "133975ed",
   "metadata": {},
   "outputs": [],
   "source": [
    "#normalize data\n",
    "scaler = MinMaxScaler(feature_range=(0,1))\n",
    "dataset = scaler.fit_transform(dataset)"
   ]
  },
  {
   "cell_type": "code",
   "execution_count": 262,
   "id": "18febc42",
   "metadata": {},
   "outputs": [],
   "source": [
    "#split into train and test sets\n",
    "train_size = int(len(dataset) * 0.7)\n",
    "test_size = len(dataset) - train_size\n",
    "train, test = dataset[0:train_size,:], dataset[train_size:len(dataset),:]"
   ]
  },
  {
   "cell_type": "code",
   "execution_count": 263,
   "id": "d25640b1",
   "metadata": {},
   "outputs": [],
   "source": [
    "def to_sequences(dataset, seq_size=1):\n",
    "    x = []\n",
    "    y = []\n",
    "    \n",
    "    for i in range(len(dataset) - seq_size - 1):\n",
    "        window = dataset[i:(i + seq_size), 0]\n",
    "        x.append(window)\n",
    "        y.append(dataset[i+seq_size, 0])\n",
    "        \n",
    "    return np.array(x), np.array(y)\n"
   ]
  },
  {
   "cell_type": "code",
   "execution_count": 264,
   "id": "2baa11da",
   "metadata": {},
   "outputs": [],
   "source": [
    "seq_size = 5 # number of time steps to look back\n",
    "trainX, trainY = to_sequences(train, seq_size)\n",
    "testX, testY = to_sequences(test,seq_size)"
   ]
  },
  {
   "cell_type": "code",
   "execution_count": 265,
   "id": "db8d686d",
   "metadata": {},
   "outputs": [],
   "source": [
    "#Reshape input to be [samples, time steps, features]\n",
    "\n",
    "#trainX = np.reshape(trainX, (trainX.shape[0], 1, trainX.shape[1]))\n",
    "#testX = np.reshape(testX, (testX.shape[0], 1, testX.shape[1]))\n",
    "#\n",
    "#print('Single LSTM with hidden Dense...')\n",
    "#model = Sequential()\n",
    "#model.add(LSTM(64, input_shape=(None, seq_size)))\n",
    "#model.add(Dense(32))\n",
    "#model.add(Dense(1))\n",
    "#model.compile(loss='mean_squared_error', optimizer='adam')\n",
    "#model.summary()"
   ]
  },
  {
   "cell_type": "code",
   "execution_count": 266,
   "id": "04c0dfcd",
   "metadata": {},
   "outputs": [],
   "source": [
    "#Stacked LSTM with 1 hidden dense layer\n",
    "\n",
    "#trainX = np.reshape(trainX, (trainX.shape[0], 1, trainX.shape[1]))\n",
    "#testX = np.reshape(testX, (testX.shape[0], 1, testX.shape[1]))\n",
    "#\n",
    "#model = Sequential()\n",
    "#model.add(LSTM(50, activation='relu', return_sequences=True, input_shape=(None, seq_size)))\n",
    "#model.add(LSTM(50, activation='relu'))\n",
    "#model.add(Dense(32))\n",
    "#model.add(Dense(1))\n",
    "#model.compile(loss='mean_squared_error', optimizer='adam')\n",
    "#model.summary()"
   ]
  },
  {
   "cell_type": "code",
   "execution_count": 267,
   "id": "b1d33263",
   "metadata": {},
   "outputs": [],
   "source": [
    "#Bidirection LSTM\n",
    "\n",
    "#trainX = np.reshape(trainX, (trainX.shape[0], 1, trainX.shape[1]))\n",
    "#testX = np.reshape(testX, (testX.shape[0], 1, testX.shape[1]))\n",
    "#\n",
    "#model = Sequential()\n",
    "#model.add(Bidirectional(LSTM(50, activation='relu', input_shape=(None, seq_size))))\n",
    "#model.add(Dense(1))\n",
    "#model.compile(loss='mean_squared_error', optimizer='adam')\n"
   ]
  },
  {
   "cell_type": "code",
   "execution_count": 269,
   "id": "99a6ff43",
   "metadata": {},
   "outputs": [
    {
     "ename": "ValueError",
     "evalue": "This model has not yet been built. Build the model first by calling `build()` or by calling the model on a batch of data.",
     "output_type": "error",
     "traceback": [
      "\u001b[0;31m---------------------------------------------------------------------------\u001b[0m",
      "\u001b[0;31mValueError\u001b[0m                                Traceback (most recent call last)",
      "\u001b[0;32m/var/folders/pk/zmnwmmlj6d16wn3l4ql40ym80000gn/T/ipykernel_79657/1192035787.py\u001b[0m in \u001b[0;36m<module>\u001b[0;34m\u001b[0m\n\u001b[1;32m      8\u001b[0m \u001b[0mmodel\u001b[0m\u001b[0;34m.\u001b[0m\u001b[0madd\u001b[0m\u001b[0;34m(\u001b[0m\u001b[0mDense\u001b[0m\u001b[0;34m(\u001b[0m\u001b[0;36m1\u001b[0m\u001b[0;34m)\u001b[0m\u001b[0;34m)\u001b[0m\u001b[0;34m\u001b[0m\u001b[0;34m\u001b[0m\u001b[0m\n\u001b[1;32m      9\u001b[0m \u001b[0mmodel\u001b[0m\u001b[0;34m.\u001b[0m\u001b[0mcompile\u001b[0m\u001b[0;34m(\u001b[0m\u001b[0mloss\u001b[0m\u001b[0;34m=\u001b[0m\u001b[0;34m'mean_squared_error'\u001b[0m\u001b[0;34m,\u001b[0m \u001b[0moptimizer\u001b[0m\u001b[0;34m=\u001b[0m\u001b[0;34m'adam'\u001b[0m\u001b[0;34m)\u001b[0m\u001b[0;34m\u001b[0m\u001b[0;34m\u001b[0m\u001b[0m\n\u001b[0;32m---> 10\u001b[0;31m \u001b[0mmodel\u001b[0m\u001b[0;34m.\u001b[0m\u001b[0msummary\u001b[0m\u001b[0;34m(\u001b[0m\u001b[0;34m)\u001b[0m\u001b[0;34m\u001b[0m\u001b[0;34m\u001b[0m\u001b[0m\n\u001b[0m",
      "\u001b[0;32m~/opt/anaconda3/lib/python3.9/site-packages/keras/engine/training.py\u001b[0m in \u001b[0;36msummary\u001b[0;34m(self, line_length, positions, print_fn, expand_nested, show_trainable, layer_range)\u001b[0m\n\u001b[1;32m   3212\u001b[0m         \"\"\"\n\u001b[1;32m   3213\u001b[0m         \u001b[0;32mif\u001b[0m \u001b[0;32mnot\u001b[0m \u001b[0mself\u001b[0m\u001b[0;34m.\u001b[0m\u001b[0mbuilt\u001b[0m\u001b[0;34m:\u001b[0m\u001b[0;34m\u001b[0m\u001b[0;34m\u001b[0m\u001b[0m\n\u001b[0;32m-> 3214\u001b[0;31m             raise ValueError(\n\u001b[0m\u001b[1;32m   3215\u001b[0m                 \u001b[0;34m\"This model has not yet been built. \"\u001b[0m\u001b[0;34m\u001b[0m\u001b[0;34m\u001b[0m\u001b[0m\n\u001b[1;32m   3216\u001b[0m                 \u001b[0;34m\"Build the model first by calling `build()` or by calling \"\u001b[0m\u001b[0;34m\u001b[0m\u001b[0;34m\u001b[0m\u001b[0m\n",
      "\u001b[0;31mValueError\u001b[0m: This model has not yet been built. Build the model first by calling `build()` or by calling the model on a batch of data."
     ]
    }
   ],
   "source": [
    "#ConvLSTM\n",
    "\n",
    "trainX = trainX.reshape((trainX.shape[0], 1, 1, 1, seq_size))\n",
    "testX = testX.reshape((testX.shape[0], 1, 1, 1, seq_size))\n",
    "\n",
    "model = Sequential()\n",
    "model.add(ConvLSTM2D(filters=64, activation='relu', kernel_size=(1,1)))\n",
    "model.add(Flatten())\n",
    "model.add(Dense(32))\n",
    "model.add(Dense(1))\n",
    "model.compile(loss='mean_squared_error', optimizer='adam')\n",
    "model.summary()"
   ]
  },
  {
   "cell_type": "code",
   "execution_count": 270,
   "id": "917305e7",
   "metadata": {},
   "outputs": [
    {
     "name": "stdout",
     "output_type": "stream",
     "text": [
      "Epoch 1/100\n",
      "3/3 - 2s - loss: 0.0613 - val_loss: 0.3133 - 2s/epoch - 688ms/step\n",
      "Epoch 2/100\n",
      "3/3 - 0s - loss: 0.0470 - val_loss: 0.2603 - 27ms/epoch - 9ms/step\n",
      "Epoch 3/100\n",
      "3/3 - 0s - loss: 0.0346 - val_loss: 0.2114 - 32ms/epoch - 11ms/step\n",
      "Epoch 4/100\n",
      "3/3 - 0s - loss: 0.0248 - val_loss: 0.1668 - 31ms/epoch - 10ms/step\n",
      "Epoch 5/100\n",
      "3/3 - 0s - loss: 0.0175 - val_loss: 0.1273 - 32ms/epoch - 11ms/step\n",
      "Epoch 6/100\n",
      "3/3 - 0s - loss: 0.0130 - val_loss: 0.0944 - 33ms/epoch - 11ms/step\n",
      "Epoch 7/100\n",
      "3/3 - 0s - loss: 0.0108 - val_loss: 0.0703 - 36ms/epoch - 12ms/step\n",
      "Epoch 8/100\n",
      "3/3 - 0s - loss: 0.0107 - val_loss: 0.0548 - 39ms/epoch - 13ms/step\n",
      "Epoch 9/100\n",
      "3/3 - 0s - loss: 0.0114 - val_loss: 0.0469 - 35ms/epoch - 12ms/step\n",
      "Epoch 10/100\n",
      "3/3 - 0s - loss: 0.0117 - val_loss: 0.0448 - 33ms/epoch - 11ms/step\n",
      "Epoch 11/100\n",
      "3/3 - 0s - loss: 0.0112 - val_loss: 0.0459 - 32ms/epoch - 11ms/step\n",
      "Epoch 12/100\n",
      "3/3 - 0s - loss: 0.0103 - val_loss: 0.0495 - 32ms/epoch - 11ms/step\n",
      "Epoch 13/100\n",
      "3/3 - 0s - loss: 0.0095 - val_loss: 0.0543 - 34ms/epoch - 11ms/step\n",
      "Epoch 14/100\n",
      "3/3 - 0s - loss: 0.0088 - val_loss: 0.0574 - 31ms/epoch - 10ms/step\n",
      "Epoch 15/100\n",
      "3/3 - 0s - loss: 0.0085 - val_loss: 0.0592 - 34ms/epoch - 11ms/step\n",
      "Epoch 16/100\n",
      "3/3 - 0s - loss: 0.0082 - val_loss: 0.0583 - 34ms/epoch - 11ms/step\n",
      "Epoch 17/100\n",
      "3/3 - 0s - loss: 0.0080 - val_loss: 0.0550 - 34ms/epoch - 11ms/step\n",
      "Epoch 18/100\n",
      "3/3 - 0s - loss: 0.0076 - val_loss: 0.0498 - 33ms/epoch - 11ms/step\n",
      "Epoch 19/100\n",
      "3/3 - 0s - loss: 0.0072 - val_loss: 0.0445 - 32ms/epoch - 11ms/step\n",
      "Epoch 20/100\n",
      "3/3 - 0s - loss: 0.0068 - val_loss: 0.0394 - 33ms/epoch - 11ms/step\n",
      "Epoch 21/100\n",
      "3/3 - 0s - loss: 0.0065 - val_loss: 0.0350 - 32ms/epoch - 11ms/step\n",
      "Epoch 22/100\n",
      "3/3 - 0s - loss: 0.0062 - val_loss: 0.0314 - 32ms/epoch - 11ms/step\n",
      "Epoch 23/100\n",
      "3/3 - 0s - loss: 0.0060 - val_loss: 0.0289 - 32ms/epoch - 11ms/step\n",
      "Epoch 24/100\n",
      "3/3 - 0s - loss: 0.0057 - val_loss: 0.0275 - 32ms/epoch - 11ms/step\n",
      "Epoch 25/100\n",
      "3/3 - 0s - loss: 0.0054 - val_loss: 0.0267 - 32ms/epoch - 11ms/step\n",
      "Epoch 26/100\n",
      "3/3 - 0s - loss: 0.0052 - val_loss: 0.0262 - 32ms/epoch - 11ms/step\n",
      "Epoch 27/100\n",
      "3/3 - 0s - loss: 0.0050 - val_loss: 0.0255 - 34ms/epoch - 11ms/step\n",
      "Epoch 28/100\n",
      "3/3 - 0s - loss: 0.0048 - val_loss: 0.0247 - 36ms/epoch - 12ms/step\n",
      "Epoch 29/100\n",
      "3/3 - 0s - loss: 0.0047 - val_loss: 0.0238 - 36ms/epoch - 12ms/step\n",
      "Epoch 30/100\n",
      "3/3 - 0s - loss: 0.0046 - val_loss: 0.0228 - 34ms/epoch - 11ms/step\n",
      "Epoch 31/100\n",
      "3/3 - 0s - loss: 0.0044 - val_loss: 0.0220 - 33ms/epoch - 11ms/step\n",
      "Epoch 32/100\n",
      "3/3 - 0s - loss: 0.0044 - val_loss: 0.0214 - 34ms/epoch - 11ms/step\n",
      "Epoch 33/100\n",
      "3/3 - 0s - loss: 0.0042 - val_loss: 0.0211 - 34ms/epoch - 11ms/step\n",
      "Epoch 34/100\n",
      "3/3 - 0s - loss: 0.0042 - val_loss: 0.0209 - 34ms/epoch - 11ms/step\n",
      "Epoch 35/100\n",
      "3/3 - 0s - loss: 0.0041 - val_loss: 0.0207 - 33ms/epoch - 11ms/step\n",
      "Epoch 36/100\n",
      "3/3 - 0s - loss: 0.0040 - val_loss: 0.0206 - 34ms/epoch - 11ms/step\n",
      "Epoch 37/100\n",
      "3/3 - 0s - loss: 0.0040 - val_loss: 0.0204 - 34ms/epoch - 11ms/step\n",
      "Epoch 38/100\n",
      "3/3 - 0s - loss: 0.0039 - val_loss: 0.0203 - 33ms/epoch - 11ms/step\n",
      "Epoch 39/100\n",
      "3/3 - 0s - loss: 0.0039 - val_loss: 0.0201 - 33ms/epoch - 11ms/step\n",
      "Epoch 40/100\n",
      "3/3 - 0s - loss: 0.0038 - val_loss: 0.0199 - 32ms/epoch - 11ms/step\n",
      "Epoch 41/100\n",
      "3/3 - 0s - loss: 0.0038 - val_loss: 0.0198 - 33ms/epoch - 11ms/step\n",
      "Epoch 42/100\n",
      "3/3 - 0s - loss: 0.0037 - val_loss: 0.0195 - 33ms/epoch - 11ms/step\n",
      "Epoch 43/100\n",
      "3/3 - 0s - loss: 0.0037 - val_loss: 0.0194 - 33ms/epoch - 11ms/step\n",
      "Epoch 44/100\n",
      "3/3 - 0s - loss: 0.0037 - val_loss: 0.0194 - 38ms/epoch - 13ms/step\n",
      "Epoch 45/100\n",
      "3/3 - 0s - loss: 0.0036 - val_loss: 0.0190 - 34ms/epoch - 11ms/step\n",
      "Epoch 46/100\n",
      "3/3 - 0s - loss: 0.0035 - val_loss: 0.0188 - 34ms/epoch - 11ms/step\n",
      "Epoch 47/100\n",
      "3/3 - 0s - loss: 0.0035 - val_loss: 0.0185 - 35ms/epoch - 12ms/step\n",
      "Epoch 48/100\n",
      "3/3 - 0s - loss: 0.0035 - val_loss: 0.0183 - 34ms/epoch - 11ms/step\n",
      "Epoch 49/100\n",
      "3/3 - 0s - loss: 0.0034 - val_loss: 0.0179 - 34ms/epoch - 11ms/step\n",
      "Epoch 50/100\n",
      "3/3 - 0s - loss: 0.0034 - val_loss: 0.0176 - 33ms/epoch - 11ms/step\n",
      "Epoch 51/100\n",
      "3/3 - 0s - loss: 0.0033 - val_loss: 0.0174 - 32ms/epoch - 11ms/step\n",
      "Epoch 52/100\n",
      "3/3 - 0s - loss: 0.0033 - val_loss: 0.0173 - 32ms/epoch - 11ms/step\n",
      "Epoch 53/100\n",
      "3/3 - 0s - loss: 0.0033 - val_loss: 0.0170 - 32ms/epoch - 11ms/step\n",
      "Epoch 54/100\n",
      "3/3 - 0s - loss: 0.0032 - val_loss: 0.0167 - 32ms/epoch - 11ms/step\n",
      "Epoch 55/100\n",
      "3/3 - 0s - loss: 0.0032 - val_loss: 0.0163 - 34ms/epoch - 11ms/step\n",
      "Epoch 56/100\n",
      "3/3 - 0s - loss: 0.0031 - val_loss: 0.0160 - 30ms/epoch - 10ms/step\n",
      "Epoch 57/100\n",
      "3/3 - 0s - loss: 0.0031 - val_loss: 0.0160 - 30ms/epoch - 10ms/step\n",
      "Epoch 58/100\n",
      "3/3 - 0s - loss: 0.0031 - val_loss: 0.0157 - 29ms/epoch - 10ms/step\n",
      "Epoch 59/100\n",
      "3/3 - 0s - loss: 0.0030 - val_loss: 0.0155 - 31ms/epoch - 10ms/step\n",
      "Epoch 60/100\n",
      "3/3 - 0s - loss: 0.0030 - val_loss: 0.0153 - 31ms/epoch - 10ms/step\n",
      "Epoch 61/100\n",
      "3/3 - 0s - loss: 0.0029 - val_loss: 0.0150 - 30ms/epoch - 10ms/step\n",
      "Epoch 62/100\n",
      "3/3 - 0s - loss: 0.0029 - val_loss: 0.0147 - 30ms/epoch - 10ms/step\n",
      "Epoch 63/100\n",
      "3/3 - 0s - loss: 0.0029 - val_loss: 0.0146 - 30ms/epoch - 10ms/step\n",
      "Epoch 64/100\n",
      "3/3 - 0s - loss: 0.0028 - val_loss: 0.0143 - 29ms/epoch - 10ms/step\n",
      "Epoch 65/100\n",
      "3/3 - 0s - loss: 0.0028 - val_loss: 0.0140 - 29ms/epoch - 10ms/step\n",
      "Epoch 66/100\n",
      "3/3 - 0s - loss: 0.0028 - val_loss: 0.0139 - 29ms/epoch - 10ms/step\n",
      "Epoch 67/100\n",
      "3/3 - 0s - loss: 0.0027 - val_loss: 0.0138 - 31ms/epoch - 10ms/step\n",
      "Epoch 68/100\n",
      "3/3 - 0s - loss: 0.0027 - val_loss: 0.0137 - 31ms/epoch - 10ms/step\n",
      "Epoch 69/100\n",
      "3/3 - 0s - loss: 0.0027 - val_loss: 0.0133 - 31ms/epoch - 10ms/step\n",
      "Epoch 70/100\n",
      "3/3 - 0s - loss: 0.0027 - val_loss: 0.0132 - 31ms/epoch - 10ms/step\n",
      "Epoch 71/100\n",
      "3/3 - 0s - loss: 0.0027 - val_loss: 0.0132 - 32ms/epoch - 11ms/step\n",
      "Epoch 72/100\n",
      "3/3 - 0s - loss: 0.0026 - val_loss: 0.0128 - 31ms/epoch - 10ms/step\n",
      "Epoch 73/100\n",
      "3/3 - 0s - loss: 0.0026 - val_loss: 0.0125 - 31ms/epoch - 10ms/step\n",
      "Epoch 74/100\n",
      "3/3 - 0s - loss: 0.0026 - val_loss: 0.0125 - 31ms/epoch - 10ms/step\n",
      "Epoch 75/100\n",
      "3/3 - 0s - loss: 0.0026 - val_loss: 0.0124 - 30ms/epoch - 10ms/step\n",
      "Epoch 76/100\n",
      "3/3 - 0s - loss: 0.0025 - val_loss: 0.0123 - 30ms/epoch - 10ms/step\n",
      "Epoch 77/100\n",
      "3/3 - 0s - loss: 0.0025 - val_loss: 0.0121 - 29ms/epoch - 10ms/step\n",
      "Epoch 78/100\n",
      "3/3 - 0s - loss: 0.0025 - val_loss: 0.0119 - 30ms/epoch - 10ms/step\n",
      "Epoch 79/100\n",
      "3/3 - 0s - loss: 0.0025 - val_loss: 0.0121 - 30ms/epoch - 10ms/step\n",
      "Epoch 80/100\n",
      "3/3 - 0s - loss: 0.0025 - val_loss: 0.0117 - 30ms/epoch - 10ms/step\n",
      "Epoch 81/100\n",
      "3/3 - 0s - loss: 0.0025 - val_loss: 0.0117 - 31ms/epoch - 10ms/step\n",
      "Epoch 82/100\n",
      "3/3 - 0s - loss: 0.0024 - val_loss: 0.0115 - 30ms/epoch - 10ms/step\n",
      "Epoch 83/100\n",
      "3/3 - 0s - loss: 0.0024 - val_loss: 0.0114 - 30ms/epoch - 10ms/step\n",
      "Epoch 84/100\n",
      "3/3 - 0s - loss: 0.0024 - val_loss: 0.0114 - 29ms/epoch - 10ms/step\n",
      "Epoch 85/100\n",
      "3/3 - 0s - loss: 0.0024 - val_loss: 0.0112 - 29ms/epoch - 10ms/step\n",
      "Epoch 86/100\n",
      "3/3 - 0s - loss: 0.0024 - val_loss: 0.0112 - 30ms/epoch - 10ms/step\n",
      "Epoch 87/100\n",
      "3/3 - 0s - loss: 0.0024 - val_loss: 0.0111 - 30ms/epoch - 10ms/step\n",
      "Epoch 88/100\n",
      "3/3 - 0s - loss: 0.0023 - val_loss: 0.0109 - 30ms/epoch - 10ms/step\n",
      "Epoch 89/100\n",
      "3/3 - 0s - loss: 0.0023 - val_loss: 0.0107 - 30ms/epoch - 10ms/step\n",
      "Epoch 90/100\n",
      "3/3 - 0s - loss: 0.0023 - val_loss: 0.0106 - 29ms/epoch - 10ms/step\n",
      "Epoch 91/100\n",
      "3/3 - 0s - loss: 0.0023 - val_loss: 0.0106 - 30ms/epoch - 10ms/step\n",
      "Epoch 92/100\n",
      "3/3 - 0s - loss: 0.0023 - val_loss: 0.0106 - 29ms/epoch - 10ms/step\n",
      "Epoch 93/100\n",
      "3/3 - 0s - loss: 0.0023 - val_loss: 0.0104 - 30ms/epoch - 10ms/step\n",
      "Epoch 94/100\n",
      "3/3 - 0s - loss: 0.0023 - val_loss: 0.0104 - 32ms/epoch - 11ms/step\n",
      "Epoch 95/100\n",
      "3/3 - 0s - loss: 0.0023 - val_loss: 0.0103 - 31ms/epoch - 10ms/step\n",
      "Epoch 96/100\n",
      "3/3 - 0s - loss: 0.0023 - val_loss: 0.0103 - 30ms/epoch - 10ms/step\n",
      "Epoch 97/100\n",
      "3/3 - 0s - loss: 0.0023 - val_loss: 0.0102 - 30ms/epoch - 10ms/step\n",
      "Epoch 98/100\n",
      "3/3 - 0s - loss: 0.0022 - val_loss: 0.0101 - 31ms/epoch - 10ms/step\n",
      "Epoch 99/100\n",
      "3/3 - 0s - loss: 0.0022 - val_loss: 0.0101 - 30ms/epoch - 10ms/step\n",
      "Epoch 100/100\n",
      "3/3 - 0s - loss: 0.0022 - val_loss: 0.0100 - 29ms/epoch - 10ms/step\n"
     ]
    },
    {
     "data": {
      "text/plain": [
       "<keras.callbacks.History at 0x7ff7d684ba90>"
      ]
     },
     "execution_count": 270,
     "metadata": {},
     "output_type": "execute_result"
    }
   ],
   "source": [
    "model.fit(trainX, trainY, validation_data=(testX, testY),\n",
    "         verbose=2, epochs=100)"
   ]
  },
  {
   "cell_type": "code",
   "execution_count": 271,
   "id": "d739d25d",
   "metadata": {},
   "outputs": [
    {
     "name": "stdout",
     "output_type": "stream",
     "text": [
      "3/3 [==============================] - 0s 1ms/step\n",
      "2/2 [==============================] - 0s 2ms/step\n"
     ]
    }
   ],
   "source": [
    "# Prediction\n",
    "trainPredict = model.predict(trainX)\n",
    "testPredict = model.predict(testX)"
   ]
  },
  {
   "cell_type": "code",
   "execution_count": 272,
   "id": "2ed9355b",
   "metadata": {},
   "outputs": [],
   "source": [
    "# Estimate model performance by doing inverse transformation\n",
    "\n",
    "trainPredict = scaler.inverse_transform(trainPredict)\n",
    "trainY_inverse = scaler.inverse_transform([trainY])\n",
    "testPredict = scaler.inverse_transform(testPredict)\n",
    "testY_inverse = scaler.inverse_transform([testY])"
   ]
  },
  {
   "cell_type": "code",
   "execution_count": 273,
   "id": "e9c11060",
   "metadata": {},
   "outputs": [
    {
     "name": "stdout",
     "output_type": "stream",
     "text": [
      "Train score: 24.37 RMSE\n",
      "Test score: 51.78 RMSE\n"
     ]
    }
   ],
   "source": [
    "#calculate root mean squared error\n",
    "\n",
    "trainScore = math.sqrt(mean_squared_error(trainY_inverse[0], trainPredict[:,0]))\n",
    "print('Train score: %.2f RMSE' % (trainScore))\n",
    "\n",
    "testScore = math.sqrt(mean_squared_error(testY_inverse[0], testPredict[:,0]))\n",
    "print('Test score: %.2f RMSE' % (testScore))"
   ]
  },
  {
   "cell_type": "code",
   "execution_count": 274,
   "id": "b32cd2a2",
   "metadata": {},
   "outputs": [],
   "source": [
    "#align the prediction on the x-axis with the origin\n",
    "#shift train predictions for plotting\n",
    "\n",
    "trainPredictPlot = np.empty_like(dataset)\n",
    "trainPredictPlot[:, :] = np.nan\n",
    "trainPredictPlot[seq_size:len(trainPredict)+seq_size, :] = trainPredict"
   ]
  },
  {
   "cell_type": "code",
   "execution_count": 275,
   "id": "b6ef8ef6",
   "metadata": {},
   "outputs": [],
   "source": [
    "#shift test predictions for plotting\n",
    "\n",
    "testPredictPlot = np.empty_like(dataset)\n",
    "testPredictPlot[:, :] = np.nan\n",
    "testPredictPlot[len(trainPredict)+(seq_size * 2)+1: len(dataset)-1, :] = testPredict"
   ]
  },
  {
   "cell_type": "code",
   "execution_count": 276,
   "id": "f4717325",
   "metadata": {},
   "outputs": [
    {
     "data": {
      "image/png": "[encoded data removed]",
      "text/plain": [
       "<Figure size 432x288 with 1 Axes>"
      ]
     },
     "metadata": {
      "needs_background": "light"
     },
     "output_type": "display_data"
    }
   ],
   "source": [
    "#plot baseline and prediction\n",
    "\n",
    "plt.plot(scaler.inverse_transform(dataset))\n",
    "plt.plot(trainPredictPlot)\n",
    "plt.plot(testPredictPlot)\n",
    "plt.show()"
   ]
  },
  {
   "cell_type": "code",
   "execution_count": null,
   "id": "9e24f425",
   "metadata": {},
   "outputs": [],
   "source": []
  }
 ],
 "metadata": {
  "kernelspec": {
   "display_name": "Python 3 (ipykernel)",
   "language": "python",
   "name": "python3"
  },
  "language_info": {
   "codemirror_mode": {
    "name": "ipython",
    "version": 3
   },
   "file_extension": ".py",
   "mimetype": "text/x-python",
   "name": "python",
   "nbconvert_exporter": "python",
   "pygments_lexer": "ipython3",
   "version": "3.9.7"
  },
  "varInspector": {
   "cols": {
    "lenName": 16,
    "lenType": 16,
    "lenVar": 40
   },
   "kernels_config": {
    "python": {
     "delete_cmd_postfix": "",
     "delete_cmd_prefix": "del ",
     "library": "var_list.py",
     "varRefreshCmd": "print(var_dic_list())"
    },
    "r": {
     "delete_cmd_postfix": ") ",
     "delete_cmd_prefix": "rm(",
     "library": "var_list.r",
     "varRefreshCmd": "cat(var_dic_list()) "
    }
   },
   "position": {
    "height": "208.852px",
    "left": "848px",
    "right": "20px",
    "top": "120px",
    "width": "342px"
   },
   "types_to_exclude": [
    "module",
    "function",
    "builtin_function_or_method",
    "instance",
    "_Feature"
   ],
   "window_display": false
  }
 },
 "nbformat": 4,
 "nbformat_minor": 5
}
